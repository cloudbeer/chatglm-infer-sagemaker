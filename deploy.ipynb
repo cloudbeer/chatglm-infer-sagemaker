{
 "cells": [
  {
   "cell_type": "code",
   "execution_count": 21,
   "metadata": {},
   "outputs": [
    {
     "name": "stdout",
     "output_type": "stream",
     "text": [
      "code/\n",
      "code/inference.py\n",
      "code/requirements.txt\n",
      "upload: ./chatglm-6b-model.tar.gz to s3://cloudbeer-llm-models/llm/chatglm-6b-model.tar.gz\n"
     ]
    }
   ],
   "source": [
    "!sh ./deploy_s3.sh"
   ]
  },
  {
   "cell_type": "code",
   "execution_count": 24,
   "metadata": {},
   "outputs": [
    {
     "name": "stdout",
     "output_type": "stream",
     "text": [
      "--------!"
     ]
    }
   ],
   "source": [
    "import boto3  \n",
    "from sagemaker.huggingface.model import HuggingFaceModel\n",
    "\n",
    "s3_model = \"s3://cloudbeer-llm-models/llm/chatglm-6b-model.tar.gz\"\n",
    "\n",
    "iam_client = boto3.client('iam')\n",
    "role = iam_client.get_role(RoleName='HuggingfaceExecuteRole')['Role']['Arn']\n",
    "\n",
    "huggingface_model = HuggingFaceModel(\n",
    "  model_data=s3_model,\n",
    "  role=role,\n",
    "\ttransformers_version='4.26',\n",
    "\tpytorch_version='1.13',\n",
    "\tpy_version='py39',\n",
    ")\n",
    "\n",
    "predictor = huggingface_model.deploy(\n",
    "  initial_instance_count=1,\n",
    "  # instance_type='ml.m5.xlarge',\n",
    "  instance_type='ml.g4dn.2xlarge',\n",
    "  endpoint_name='chatglm-6b-model',\n",
    ")"
   ]
  },
  {
   "attachments": {},
   "cell_type": "markdown",
   "metadata": {},
   "source": [
    "## 删除"
   ]
  },
  {
   "cell_type": "code",
   "execution_count": null,
   "metadata": {},
   "outputs": [],
   "source": [
    "predictor.delete_model()\n",
    "predictor.delete_endpoint()"
   ]
  }
 ],
 "metadata": {
  "kernelspec": {
   "display_name": "llm",
   "language": "python",
   "name": "python3"
  },
  "language_info": {
   "codemirror_mode": {
    "name": "ipython",
    "version": 3
   },
   "file_extension": ".py",
   "mimetype": "text/x-python",
   "name": "python",
   "nbconvert_exporter": "python",
   "pygments_lexer": "ipython3",
   "version": "3.10.10"
  },
  "orig_nbformat": 4
 },
 "nbformat": 4,
 "nbformat_minor": 2
}
