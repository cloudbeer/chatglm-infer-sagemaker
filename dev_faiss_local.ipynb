{
 "cells": [
  {
   "attachments": {},
   "cell_type": "markdown",
   "metadata": {},
   "source": [
    "# ChatGLM-6B 在本地推理"
   ]
  },
  {
   "cell_type": "code",
   "execution_count": 66,
   "metadata": {},
   "outputs": [],
   "source": [
    "import torch\n",
    "import transformers\n",
    "\n",
    "import numpy as np\n",
    "from numpy import dot\n",
    "from numpy.linalg import norm\n",
    "import torch.nn.functional as F\n",
    "\n",
    "def numpy_sim(v1, v2):\n",
    "    return dot(v1, v2)/(norm(v1)*norm(v2))\n",
    "\n",
    "def to_vec(tokenizer,model,text):\n",
    "    input_ids = tokenizer.encode(text, return_tensors=\"pt\").to(model.device)\n",
    "    model_output = model(input_ids, output_hidden_states=True)\n",
    "    data = (model_output.hidden_states[-1].transpose(0, 1))[0]\n",
    "    data = F.normalize(torch.mean(data, dim=0), p=2, dim=0)\n",
    "    return data.tolist()\n",
    "\n",
    "def similarity(tokenizer, model, text1, text2):\n",
    "    vec1 = to_vec(tokenizer, model, text1)\n",
    "    vec2 = to_vec(tokenizer, model, text2)\n",
    "    return numpy_sim(vec1, vec2)\n"
   ]
  },
  {
   "cell_type": "code",
   "execution_count": 4,
   "metadata": {},
   "outputs": [
    {
     "name": "stderr",
     "output_type": "stream",
     "text": [
      "Explicitly passing a `revision` is encouraged when loading a model with custom code to ensure no malicious code has been contributed in a newer revision.\n",
      "Explicitly passing a `revision` is encouraged when loading a configuration with custom code to ensure no malicious code has been contributed in a newer revision.\n",
      "Explicitly passing a `revision` is encouraged when loading a model with custom code to ensure no malicious code has been contributed in a newer revision.\n"
     ]
    },
    {
     "data": {
      "application/vnd.jupyter.widget-view+json": {
       "model_id": "a596eefacab548ddab74cedb254bc77d",
       "version_major": 2,
       "version_minor": 0
      },
      "text/plain": [
       "Loading checkpoint shards:   0%|          | 0/8 [00:00<?, ?it/s]"
      ]
     },
     "metadata": {},
     "output_type": "display_data"
    },
    {
     "data": {
      "text/plain": [
       "ChatGLMForConditionalGeneration(\n",
       "  (transformer): ChatGLMModel(\n",
       "    (word_embeddings): Embedding(130528, 4096)\n",
       "    (layers): ModuleList(\n",
       "      (0-27): 28 x GLMBlock(\n",
       "        (input_layernorm): LayerNorm((4096,), eps=1e-05, elementwise_affine=True)\n",
       "        (attention): SelfAttention(\n",
       "          (rotary_emb): RotaryEmbedding()\n",
       "          (query_key_value): Linear(in_features=4096, out_features=12288, bias=True)\n",
       "          (dense): Linear(in_features=4096, out_features=4096, bias=True)\n",
       "        )\n",
       "        (post_attention_layernorm): LayerNorm((4096,), eps=1e-05, elementwise_affine=True)\n",
       "        (mlp): GLU(\n",
       "          (dense_h_to_4h): Linear(in_features=4096, out_features=16384, bias=True)\n",
       "          (dense_4h_to_h): Linear(in_features=16384, out_features=4096, bias=True)\n",
       "        )\n",
       "      )\n",
       "    )\n",
       "    (final_layernorm): LayerNorm((4096,), eps=1e-05, elementwise_affine=True)\n",
       "  )\n",
       "  (lm_head): Linear(in_features=4096, out_features=130528, bias=False)\n",
       ")"
      ]
     },
     "execution_count": 4,
     "metadata": {},
     "output_type": "execute_result"
    }
   ],
   "source": [
    "model_name = \"/media/cloudbeer/PSSD/huggingface/chatglm-6b\"\n",
    "\n",
    "tokenizer = transformers.AutoTokenizer.from_pretrained(model_name,trust_remote_code=True)\n",
    "model = transformers.AutoModel.from_pretrained(model_name,trust_remote_code=True).half()\n",
    "\n",
    "device = torch.device(\"cuda\" if torch.cuda.is_available() else \"cpu\")\n",
    "model.to(device)"
   ]
  },
  {
   "cell_type": "code",
   "execution_count": 62,
   "metadata": {},
   "outputs": [],
   "source": [
    "def get_emb(text):\n",
    "    return to_vec(tokenizer, model,text)"
   ]
  },
  {
   "cell_type": "code",
   "execution_count": 8,
   "metadata": {},
   "outputs": [
    {
     "data": {
      "text/plain": [
       "0.9450627448783373"
      ]
     },
     "execution_count": 8,
     "metadata": {},
     "output_type": "execute_result"
    }
   ],
   "source": [
    "similarity(tokenizer, model, \"抱歉\", \"对不起\")"
   ]
  },
  {
   "cell_type": "code",
   "execution_count": 9,
   "metadata": {},
   "outputs": [
    {
     "data": {
      "text/plain": [
       "0.7458986643341842"
      ]
     },
     "execution_count": 9,
     "metadata": {},
     "output_type": "execute_result"
    }
   ],
   "source": [
    "similarity(tokenizer, model, \"抱歉\", \"Sorry\")"
   ]
  },
  {
   "cell_type": "code",
   "execution_count": 10,
   "metadata": {},
   "outputs": [
    {
     "data": {
      "text/plain": [
       "0.7469452891114097"
      ]
     },
     "execution_count": 10,
     "metadata": {},
     "output_type": "execute_result"
    }
   ],
   "source": [
    "similarity(tokenizer, model, \"对不起\", \"Sorry\")"
   ]
  },
  {
   "cell_type": "code",
   "execution_count": 11,
   "metadata": {},
   "outputs": [
    {
     "data": {
      "text/plain": [
       "0.5163344622134939"
      ]
     },
     "execution_count": 11,
     "metadata": {},
     "output_type": "execute_result"
    }
   ],
   "source": [
    "similarity(tokenizer, model, \"对不起\", \"ごめんなさい\")"
   ]
  },
  {
   "cell_type": "code",
   "execution_count": 14,
   "metadata": {},
   "outputs": [
    {
     "data": {
      "text/plain": [
       "0.6456873925266626"
      ]
     },
     "execution_count": 14,
     "metadata": {},
     "output_type": "execute_result"
    }
   ],
   "source": [
    "similarity(tokenizer, model, \"对不起\", \"吃饭了吗\")"
   ]
  },
  {
   "cell_type": "code",
   "execution_count": 13,
   "metadata": {},
   "outputs": [
    {
     "data": {
      "text/plain": [
       "0.4129723742865508"
      ]
     },
     "execution_count": 13,
     "metadata": {},
     "output_type": "execute_result"
    }
   ],
   "source": [
    "similarity(tokenizer, model, \"i am sorry\", \"ごめんなさい\")"
   ]
  },
  {
   "cell_type": "code",
   "execution_count": 18,
   "metadata": {},
   "outputs": [
    {
     "data": {
      "text/plain": [
       "0.3473560218620373"
      ]
     },
     "execution_count": 18,
     "metadata": {},
     "output_type": "execute_result"
    }
   ],
   "source": [
    "similarity(tokenizer, model, \n",
    "           \"我要找到擦眼泪的段落\", '''\n",
    "他伸出手，用指腹轻柔地擦去她眼角的泪，柔声道：\n",
    "“错的是在路上飙车的人，不是你。你也无需将别人的人生往自己身上揽，你不是灾星。这世上没有谁是灾星，只是运气不够好罢了，\n",
    "但运气这件事，从来不是一成不变的\n",
    "''')"
   ]
  },
  {
   "cell_type": "code",
   "execution_count": 60,
   "metadata": {},
   "outputs": [],
   "source": [
    "texts = [\n",
    "   '''\n",
    "他伸出手，用指腹轻柔地擦去她眼角的泪，柔声道：\n",
    "“错的是在路上飙车的人，不是你。你也无需将别人的人生往自己身上揽，你不是灾星。这世上没有谁是灾星，只是运气不够好罢了，\n",
    "但运气这件事，从来不是一成不变的\n",
    "''',\n",
    "'''\n",
    "次日清晨，段正淳与妻、儿话别。听段誉说木婉清昨晚已随其母秦红棉而去，段正淳呆了半晌，叹了几口气，问起崔百泉、过彦之二人，却说早已首途北上。随即带同三公、四护卫到宫中向保定帝辞别，与慧真、慧观二僧向陆凉州而去。段誉送出东门十里方回。\n",
    "''',\n",
    "'''\n",
    "这是午后，保定正在宫中裥房育读佛经，一名太监进来禀报：“皇太弟府詹事启奏，皇太弟世子突然中邪，已请了太医前去诊治。”保定帝本就担心，段誉中了延废太子的毒后，未必便能安然清除，当即差两名太监前去探视。过了半个时辰，两名太监回报：“皇太弟世子病势不轻，似乎有点神智错乱。”\n",
    "''',\n",
    "'''保定帝暗暗心惊，当即出宫，到镇南王府亲去探病。刚到段誉卧室之外，便听得砰嘭、乒乓、喀喇、呛啷之声不绝，尽是诸般器物碎裂之声。门外侍仆跪下接驾，神色甚是惊慌。保定帝推门进去，只见段誉在房中手舞足蹈，将桌子、椅子，以及各种器皿陈设、文房玩物乱推乱摔。两名太医东闪西避，十分狼狈。保定帝叫道：“誉儿，你怎么了？”''',\n",
    "'''段誉神智却仍清醒，只是体内真气内力太盛，便似要迸破胸膛将出来一般，若是挥动手足，掷破一些东西，便略略舒服一些。他见保定帝进来，叫道：“伯父，我要死了！”双手在空中乱挥圈子。''',\n",
    "'''刀白凤站在一旁，只是垂泪，说道：“大哥，誉儿今日早晨星还好端端地送他爹出城，不知如何，突然发起疯来。”保定帝安慰道：“弟妹不必惊慌，定是在万劫谷所中的毒未清，不难医治。”向段誉道：“觉得怎样？”''',\n",
    "'''段誉不住的顿足，叫道：“侄儿全身肿了起来，难受之极。”保定帝瞧他脸面与手上皮肤，一无异状，半点也不肿胀，这话显是神智迷糊了，不由得皱起了眉头。''',\n",
    "'''一名太医道：“启奏皇上，世子脉搏洪盛之极，似乎血气太旺，微臣愚见，给世子放一些血，不知是否使得？”保定帝心想此法或许管用，点头道：“好，你给他放放血。”那太医应道：“是！”打开药箱，从一只磁盒中取出一条肥大的水蛭为。水蛭善于吸血，用以吸去病人身上的瘀血，是为方便，且不疼痛。那太医捏住段誉的手臂，将水蛭口对准他血管。水蛭碰到段誉手臂后，不住扭动，无论如何不肯咬上去。那太医大奇，用力按着水蛭，过得半晌，水蛭一挺，竟然死了。那太医在皇帝跟前出丑，额头汗水涔涔而下，忙取过第二只水蛭来，仍是如此僵死。'''\n",
    "]"
   ]
  },
  {
   "cell_type": "code",
   "execution_count": 88,
   "metadata": {},
   "outputs": [
    {
     "name": "stdout",
     "output_type": "stream",
     "text": [
      "True\n"
     ]
    }
   ],
   "source": [
    "import faiss \n",
    "index = faiss.IndexFlatL2(4096) \n",
    "print(index.is_trained)"
   ]
  },
  {
   "cell_type": "code",
   "execution_count": null,
   "metadata": {},
   "outputs": [],
   "source": [
    "results = []\n",
    "for txt in texts:\n",
    "    results.append(get_emb(txt))\n",
    "\n",
    "index.add(np.array(results).astype('float32'))"
   ]
  },
  {
   "cell_type": "code",
   "execution_count": 100,
   "metadata": {},
   "outputs": [
    {
     "name": "stdout",
     "output_type": "stream",
     "text": [
      "[[7 4 6 5 3]]\n",
      "[[1.260549  1.4710323 1.5102043 1.5408294 1.568506 ]]\n",
      "一名太医道：“启奏皇上，世子脉搏洪盛之极，似乎血气太旺，微臣愚见，给世子放一些血，不知是否使得？”保定帝心想此法或许管用，点头道：“好，你给他放放血。”那太医应道：“是！”打开药箱，从一只磁盒中取出一条肥大的水蛭为。水蛭善于吸血，用以吸去病人身上的瘀血，是为方便，且不疼痛。那太医捏住段誉的手臂，将水蛭口对准他血管。水蛭碰到段誉手臂后，不住扭动，无论如何不肯咬上去。那太医大奇，用力按着水蛭，过得半晌，水蛭一挺，竟然死了。那太医在皇帝跟前出丑，额头汗水涔涔而下，忙取过第二只水蛭来，仍是如此僵死。\n"
     ]
    }
   ],
   "source": [
    "k = 5  \n",
    "D, I = index.search(np.array([get_emb('水蛭放血治病')]).astype('float32'), k)  \n",
    "\n",
    "print(I) \n",
    "print(D) \n",
    "\n",
    "print(texts[I[0][0]])\n"
   ]
  },
  {
   "cell_type": "code",
   "execution_count": 101,
   "metadata": {},
   "outputs": [
    {
     "name": "stdout",
     "output_type": "stream",
     "text": [
      "[[0 4 6 1 3]]\n",
      "[[1.4882702 1.5600015 1.5800588 1.5980633 1.6229407]]\n",
      "\n",
      "他伸出手，用指腹轻柔地擦去她眼角的泪，柔声道：\n",
      "“错的是在路上飙车的人，不是你。你也无需将别人的人生往自己身上揽，你不是灾星。这世上没有谁是灾星，只是运气不够好罢了，\n",
      "但运气这件事，从来不是一成不变的\n",
      "\n"
     ]
    }
   ],
   "source": [
    "k = 5  \n",
    "D, I = index.search(np.array([get_emb('飚车')]).astype('float32'), k)  \n",
    "\n",
    "print(I) \n",
    "print(D) \n",
    "\n",
    "print(texts[I[0][0]])\n",
    "\n"
   ]
  },
  {
   "cell_type": "code",
   "execution_count": 141,
   "metadata": {},
   "outputs": [],
   "source": [
    "def pretty(q, a):\n",
    "    prompt = f'''\n",
    "    阅读下面的问答，总结之后直接给出答案，如果信息不足需要回答 \"没有相关信息\":\n",
    "    问题:{q}\n",
    "    答案:{str.strip(a)}\n",
    "    '''\n",
    "    print(\"总结提示词\", prompt)\n",
    "    response, history = model.chat(tokenizer, prompt, history=[])\n",
    "    return response\n",
    "\n",
    "def search(query):\n",
    "    D, I = index.search(np.array([get_emb(query)]).astype('float32'), 2)\n",
    "    return texts[I[0][0]] + \"。 \\n\\n \" + texts[I[0][1]]"
   ]
  },
  {
   "cell_type": "code",
   "execution_count": 176,
   "metadata": {},
   "outputs": [
    {
     "name": "stdout",
     "output_type": "stream",
     "text": [
      "总结提示词 \n",
      "    阅读下面的问答，总结之后直接给出答案，如果信息不足，回答 \"没有相关信息\":\n",
      "    问题:谁的真气很足?\n",
      "    答案:段誉神智却仍清醒，只是体内真气内力太盛，便似要迸破胸膛将出来一般，若是挥动手足，掷破一些东西，便略略舒服一些。他见保定帝进来，叫道：“伯父，我要死了！”双手在空中乱挥圈子。\n",
      "。 \n",
      "\n",
      " 段誉不住的顿足，叫道：“侄儿全身肿了起来，难受之极。”保定帝瞧他脸面与手上皮肤，一无异状，半点也不肿胀，这话显是神智迷糊了，不由得皱起了眉头。\n",
      "    \n",
      "<------------\n",
      " 段誉在《天龙八部》中体内真气内力很足。 \n",
      "-------------->\n"
     ]
    }
   ],
   "source": [
    "stext = '谁的真气很足?'\n",
    "res = search(stext)\n",
    "pre_res = pretty(stext, res)\n",
    "print(\"<------------\\n\", pre_res, \"\\n-------------->\")\n"
   ]
  }
 ],
 "metadata": {
  "kernelspec": {
   "display_name": "llm",
   "language": "python",
   "name": "python3"
  },
  "language_info": {
   "codemirror_mode": {
    "name": "ipython",
    "version": 3
   },
   "file_extension": ".py",
   "mimetype": "text/x-python",
   "name": "python",
   "nbconvert_exporter": "python",
   "pygments_lexer": "ipython3",
   "version": "3.10.10"
  },
  "orig_nbformat": 4
 },
 "nbformat": 4,
 "nbformat_minor": 2
}
